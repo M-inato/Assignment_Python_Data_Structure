{
  "nbformat": 4,
  "nbformat_minor": 0,
  "metadata": {
    "colab": {
      "provenance": []
    },
    "kernelspec": {
      "name": "python3",
      "display_name": "Python 3"
    },
    "language_info": {
      "name": "python"
    }
  },
  "cells": [
    {
      "cell_type": "code",
      "execution_count": 23,
      "metadata": {
        "colab": {
          "base_uri": "https://localhost:8080/"
        },
        "id": "pHxkOfDUxt2D",
        "outputId": "d8655d8e-9466-4447-d707-a24803cdefad"
      },
      "outputs": [
        {
          "output_type": "stream",
          "name": "stdout",
          "text": [
            "python\n",
            "programming \n",
            "language\n",
            "atfca nelgne\n",
            "englen acfta\n",
            "ecnegilletni laicifitra\n",
            "atfca\n"
          ]
        }
      ],
      "source": [
        "# Q1. Discuss string slicing and provide examples?\n",
        "\n",
        "# Solution:-\n",
        "'''string sclicing in the python is the way to get or fetch the specific parts of the string by using the start value , end value  and step value.\n",
        "   It is useful in data manipulation and data parsing.\n",
        "   we use the index values for the slicies of the string and we can also fetch the string slice from the backward using the negative index values'''\n",
        "\n",
        "  ## here are some examples of thestring slicing:-\n",
        "\n",
        "### example 1:\n",
        "a='python programming language'\n",
        "b=a[0:6]\n",
        "print(b)\n",
        "\n",
        "c=a[7:19]\n",
        "print(c)\n",
        "\n",
        "d=a[19:28]\n",
        "print(d)\n",
        "##second example\n",
        "x='artificial intelligence'\n",
        "z=x[::2]\n",
        "print(z)\n",
        "\n",
        "##negative indicies\n",
        "w=x[::-2]\n",
        "print(w)\n",
        "\n",
        "y=x[::-1]\n",
        "print(y)\n",
        "\n",
        "e=x[0:10:2]\n",
        "print(e)\n"
      ]
    },
    {
      "cell_type": "code",
      "source": [
        "# Q2. Explain the key features of lists in Python?\n",
        "\n",
        "# Solution:-\n",
        "'''\n",
        "key features of list in python are as under:-\n",
        "\n",
        "1. you can store data of multiple types like string , integer, float , bool etc\n",
        "2. lists have indexes to retrive the stored data which makes the traversal and retival of data very easy in the list\n",
        "3. list is a mutable data structure which means we can change values after creation of the list\n",
        "4. list are the ordered data structure as they have indexes to retrive the values from the list\n",
        "5. The index values of the list goes from 0 to the len-1\n",
        "\n",
        "'''\n",
        "# example showing hoe to create the list and data retrival:-\n",
        "\n",
        "a=[4,4.5,'lokendra',True,5+6j]\n",
        "\n",
        "print(a[0])\n",
        "print(a[len(a)-1])\n",
        "\n",
        "#accessing the all the elements using the loops\n",
        "\n",
        "for i in range(0,len(a)):\n",
        "  print(a[i])"
      ],
      "metadata": {
        "colab": {
          "base_uri": "https://localhost:8080/"
        },
        "id": "DzGLdI2B-zoV",
        "outputId": "5f677c41-1a00-48d1-ce10-b0255cfde100"
      },
      "execution_count": 30,
      "outputs": [
        {
          "output_type": "stream",
          "name": "stdout",
          "text": [
            "4\n",
            "(5+6j)\n",
            "4\n",
            "4.5\n",
            "lokendra\n",
            "True\n",
            "(5+6j)\n"
          ]
        }
      ]
    },
    {
      "cell_type": "code",
      "source": [
        "# Q3 Describe how to access, modify, and delete elements in a list with examples?\n",
        "\n",
        "# Solution:-\n",
        "\n",
        "##creating a list\n",
        "\n",
        "l1=[1,2,'lokendra','thor',5.3,4+6j]\n",
        "\n",
        "##accessing elements from the list using the indicies\n",
        "\n",
        "print(l1[2])\n",
        "print(l1[0])\n",
        "print(l1[4])\n",
        "print(l1[len(l1)-1])\n",
        "\n",
        "##accessing the elements from the list using the loop\n",
        "\n",
        "for i in range(0,len(l1)):\n",
        "  print(l1[i])\n",
        "\n",
        "## simply printing the whole list\n",
        "\n",
        "print(l1)\n",
        "\n",
        "#modifying the elements in the list\n",
        "\n",
        "l1.append('ajay')\n",
        "print(l1)\n",
        "\n",
        "l1[0]=44\n",
        "print(l1)\n",
        "\n",
        "l1.insert(2,'loki')\n",
        "print(l1)\n",
        "\n",
        "## deleting elements in the list\n",
        "\n",
        "del l1[0]\n",
        "print(l1)\n",
        "\n",
        "l1.remove(\"loki\")\n",
        "print(l1)\n",
        "\n",
        "l1.pop(0)\n",
        "print(l1)\n",
        "\n",
        "l1.clear()\n",
        "print(l1)\n",
        "\n",
        "\n"
      ],
      "metadata": {
        "colab": {
          "base_uri": "https://localhost:8080/"
        },
        "id": "uOd2pA6zO6hV",
        "outputId": "912fcd19-23ad-49b0-bedb-4db0d87b8929"
      },
      "execution_count": 43,
      "outputs": [
        {
          "output_type": "stream",
          "name": "stdout",
          "text": [
            "lokendra\n",
            "1\n",
            "5.3\n",
            "(4+6j)\n",
            "1\n",
            "2\n",
            "lokendra\n",
            "thor\n",
            "5.3\n",
            "(4+6j)\n",
            "[1, 2, 'lokendra', 'thor', 5.3, (4+6j)]\n",
            "[1, 2, 'lokendra', 'thor', 5.3, (4+6j), 'ajay']\n",
            "[44, 2, 'lokendra', 'thor', 5.3, (4+6j), 'ajay']\n",
            "[44, 2, 'loki', 'lokendra', 'thor', 5.3, (4+6j), 'ajay']\n",
            "[2, 'loki', 'lokendra', 'thor', 5.3, (4+6j), 'ajay']\n",
            "[2, 'lokendra', 'thor', 5.3, (4+6j), 'ajay']\n",
            "['lokendra', 'thor', 5.3, (4+6j), 'ajay']\n",
            "[]\n"
          ]
        }
      ]
    },
    {
      "cell_type": "code",
      "source": [
        "# Q4.Compare and contrast tuples and lists with examples.\n",
        "\n",
        "# Solution:-\n",
        "\n",
        "'''\n",
        "lists vs tuples\n",
        "\n",
        "1.lists are mutable(can be modified after creation) where as the tuples are immutable(can not be modified after creation)\n",
        "2.lists are defined using the square brackets([]) and tuples are defined using the parentheses {()}\n",
        "3.methods used in the list are append, remove, extend etc. where as the tuples uses the methods like count,index\n",
        "4.slower because it is mutable where as the faster because it is immutable\n",
        "'''\n",
        "\n",
        "## list creation\n",
        "\n",
        "l2=[1,'loki',5.4,True,5+6j]\n",
        "\n",
        "##tuple creation\n",
        "e1=(1,1,22,3.4,'Thor',False)\n",
        "\n",
        "##list mutable\n",
        "\n",
        "l2[0]=55\n",
        "l2.append(90)\n",
        "\n",
        "##tuple are immutable\n",
        "e1[0]=55\n",
        "### cannot be changed it will give the error\n",
        "\n",
        "## methods in lists\n",
        "\n",
        "l2.append('thor')\n",
        "print(l2)\n",
        "l2.insert(9,2)\n",
        "print(l2)\n",
        "l2.clear()\n",
        "print(l2)\n",
        "\n",
        "## methods in tuple\n",
        "e1.count(1)\n",
        "print(e1)\n",
        "e1.index('Thor')\n",
        "print(e1)\n",
        "\n"
      ],
      "metadata": {
        "colab": {
          "base_uri": "https://localhost:8080/"
        },
        "id": "ixSINP8qUEyf",
        "outputId": "d7044b64-29e4-4d77-9c30-c9fe00355da9"
      },
      "execution_count": 61,
      "outputs": [
        {
          "output_type": "stream",
          "name": "stdout",
          "text": [
            "[55, 'loki', 5.4, True, (5+6j), 90, 'thor']\n",
            "[55, 'loki', 5.4, True, (5+6j), 90, 'thor', 2]\n",
            "[]\n",
            "(1, 1, 22, 3.4, 'Thor', False)\n",
            "(1, 1, 22, 3.4, 'Thor', False)\n"
          ]
        }
      ]
    },
    {
      "cell_type": "code",
      "source": [
        "# Q5 Describe the key features of sets and provide examples of their use ?\n",
        "\n",
        "# Solution:-\n",
        "\n",
        "'''\n",
        "features of the sets are :-\n",
        "1.sets are immutable they acan not be changed after creation\n",
        "2.sets do not contain any duplicate values\n",
        "3.sets are unordered in nature they do not have any indexes\n",
        "4.sets are defined using the curly braces {}\n",
        "'''\n",
        "## creating a set\n",
        "a={1,\"loken\",3.5,\"5.5\"}\n",
        "\n",
        "## sets are immutable\n",
        "a[0]=99\n",
        "###it will give a error\n",
        "\n",
        "##sets cant contain duplicate values\n",
        "a1={1,1,\"loki\",4.5}\n",
        "### it will not  give a error but does not print the duplicate value\n",
        "\n",
        "##sets are unordered means sets do not have any indicies so we have to access the values using a loop\n",
        "for x in a1:\n",
        "  print(x)\n",
        "### it does not print the duplicate values in the set\n",
        "\n",
        "## sets are defined using the curly braces {}\n",
        "a11={1,\"loki\",5.5,5+6j,True}"
      ],
      "metadata": {
        "colab": {
          "base_uri": "https://localhost:8080/"
        },
        "id": "9FmkM2EZevu3",
        "outputId": "a2b63b1c-8fd6-4723-f0d5-4d87c207e441"
      },
      "execution_count": 51,
      "outputs": [
        {
          "output_type": "stream",
          "name": "stdout",
          "text": [
            "loki\n",
            "1\n",
            "4.5\n"
          ]
        }
      ]
    },
    {
      "cell_type": "code",
      "source": [
        "# Q6  Discuss the use cases of tuples and sets in Python programming?\n",
        "\n",
        "# Solution:-\n",
        "'''\n",
        " uses cases of sets:-\n",
        "\n",
        " 1.Sets are ideal for eliminating duplicate elements from the collection.\n",
        " 2.Sets provide fast membership testing (O(1) time complexity).\n",
        " 3.mathametical operations:- Sets support operations like union, intersection, difference, and symmetric difference.\n",
        " 4.sets can be used to find the unique elements\n",
        "\n",
        " use cases of tuples :-\n",
        " 1.tuples are created using the {} brackets\n",
        " 2.tuples are used for the keys in dictionary due to the immutability\n",
        " 3.tuples are used where we dont want to change the values for exaple rgb code\n",
        " 4. tuples return multiple values for a function\n",
        "'''\n"
      ],
      "metadata": {
        "id": "gij3JJ9Wk8Ph"
      },
      "execution_count": null,
      "outputs": []
    },
    {
      "cell_type": "code",
      "source": [
        "# Q7 Describe how to add, modify, and delete items in a dictionary with examples?\n",
        "\n",
        "#Solution:-\n",
        "\n",
        "## creating a dictionary\n",
        "\n",
        "d1={1:\"apple\",2:\"banana\",3:\"orange\",4:\"grape\"}\n",
        "\n",
        "## adding values in the dictionary\n",
        "\n",
        "d1[5]=\"kiwi\"\n",
        "print(d1)\n",
        "\n",
        "## modifying elements in the dictionary\n",
        "\n",
        "d1[1]=\"lemon\"\n",
        "print(d1)\n",
        "\n",
        "## deleting a element in the dictionary\n",
        "\n",
        "del(d1[1])\n",
        "print(d1)\n"
      ],
      "metadata": {
        "colab": {
          "base_uri": "https://localhost:8080/"
        },
        "id": "u-rbfNjTsIAZ",
        "outputId": "a066d67f-7944-430e-e463-571cb67fc5a0"
      },
      "execution_count": 56,
      "outputs": [
        {
          "output_type": "stream",
          "name": "stdout",
          "text": [
            "{1: 'apple', 2: 'banana', 3: 'orange', 4: 'grape', 5: 'kiwi'}\n",
            "{1: 'lemon', 2: 'banana', 3: 'orange', 4: 'grape', 5: 'kiwi'}\n",
            "{2: 'banana', 3: 'orange', 4: 'grape', 5: 'kiwi'}\n"
          ]
        }
      ]
    },
    {
      "cell_type": "code",
      "source": [
        "# Q8  Discuss the importance of dictionary keys being immutable and provide examples?\n",
        "\n",
        "# solution:-\n",
        "\n",
        "'''dictionaries are a data structure that store key-value pairs. A key aspect of dictionaries is that their keys must be immutable\n",
        "   If they will be mutable then it will cause a type error.\n",
        "   actualy the dictioneries are a hashing mechanism which gives a uniqe value each and every time which is stored in the key value pairs .keys will be mutable then each and very time a new value will be given in the output\n",
        "    '''\n",
        "\n",
        "## immutable keys\n",
        "my_dict = {1: \"apple\",\"banana\": 2,(3, 4): \"tuple_key\"}\n",
        "## this will lnot give any error  it is fine\n",
        "\n",
        "## mutable keys\n",
        "mut_dict = {[1, 2]: \"list_key\"} ## This will rasie a type error"
      ],
      "metadata": {
        "colab": {
          "base_uri": "https://localhost:8080/",
          "height": 176
        },
        "id": "df_mVgK8tXZM",
        "outputId": "1e54c024-8dce-47d3-f825-e39bebf453a7"
      },
      "execution_count": 62,
      "outputs": [
        {
          "output_type": "error",
          "ename": "TypeError",
          "evalue": "unhashable type: 'list'",
          "traceback": [
            "\u001b[0;31m---------------------------------------------------------------------------\u001b[0m",
            "\u001b[0;31mTypeError\u001b[0m                                 Traceback (most recent call last)",
            "\u001b[0;32m<ipython-input-62-6110ddc14265>\u001b[0m in \u001b[0;36m<cell line: 15>\u001b[0;34m()\u001b[0m\n\u001b[1;32m     13\u001b[0m \u001b[0;34m\u001b[0m\u001b[0m\n\u001b[1;32m     14\u001b[0m \u001b[0;31m## mutable keys\u001b[0m\u001b[0;34m\u001b[0m\u001b[0;34m\u001b[0m\u001b[0m\n\u001b[0;32m---> 15\u001b[0;31m \u001b[0mmut_dict\u001b[0m \u001b[0;34m=\u001b[0m \u001b[0;34m{\u001b[0m\u001b[0;34m[\u001b[0m\u001b[0;36m1\u001b[0m\u001b[0;34m,\u001b[0m \u001b[0;36m2\u001b[0m\u001b[0;34m]\u001b[0m\u001b[0;34m:\u001b[0m \u001b[0;34m\"list_key\"\u001b[0m\u001b[0;34m}\u001b[0m \u001b[0;31m## This will rasie a type error\u001b[0m\u001b[0;34m\u001b[0m\u001b[0;34m\u001b[0m\u001b[0m\n\u001b[0m",
            "\u001b[0;31mTypeError\u001b[0m: unhashable type: 'list'"
          ]
        }
      ]
    },
    {
      "cell_type": "code",
      "source": [],
      "metadata": {
        "id": "S-jk8kbCzaxq"
      },
      "execution_count": null,
      "outputs": []
    }
  ]
}